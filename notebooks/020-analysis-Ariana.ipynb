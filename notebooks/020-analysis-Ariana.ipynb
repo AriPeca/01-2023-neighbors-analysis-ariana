{
 "cells": [
  {
   "cell_type": "markdown",
   "id": "11ed37e8",
   "metadata": {},
   "source": [
    "### Analysis of Neighbors posts\n",
    "\n",
    "This notebook creates the following analyses:\n",
    "- TK\n",
    "- TK\n",
    "- TK"
   ]
  },
  {
   "cell_type": "code",
   "execution_count": null,
   "id": "cd29700e",
   "metadata": {},
   "outputs": [],
   "source": [
    "# This analysis is bonkers"
   ]
  }
 ],
 "metadata": {
  "kernelspec": {
   "display_name": "Python 3 (ipykernel)",
   "language": "python",
   "name": "python3"
  },
  "language_info": {
   "codemirror_mode": {
    "name": "ipython",
    "version": 3
   },
   "file_extension": ".py",
   "mimetype": "text/x-python",
   "name": "python",
   "nbconvert_exporter": "python",
   "pygments_lexer": "ipython3",
   "version": "3.9.10"
  }
 },
 "nbformat": 4,
 "nbformat_minor": 5
}
